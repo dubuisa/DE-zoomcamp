{
 "cells": [
  {
   "cell_type": "code",
   "execution_count": 1,
   "id": "da562636",
   "metadata": {},
   "outputs": [],
   "source": [
    "import pyspark"
   ]
  },
  {
   "cell_type": "code",
   "execution_count": 3,
   "id": "94df0f76",
   "metadata": {},
   "outputs": [],
   "source": [
    "from pyspark.sql import SparkSession"
   ]
  },
  {
   "cell_type": "code",
   "execution_count": 4,
   "id": "5b871d24",
   "metadata": {},
   "outputs": [
    {
     "name": "stdout",
     "output_type": "stream",
     "text": [
      "23/02/23 19:09:55 WARN Utils: Your hostname, LX10001 resolves to a loopback address: 127.0.1.1; using 192.168.1.8 instead (on interface wlp0s20f3)\n",
      "23/02/23 19:09:55 WARN Utils: Set SPARK_LOCAL_IP if you need to bind to another address\n"
     ]
    },
    {
     "name": "stderr",
     "output_type": "stream",
     "text": [
      "Setting default log level to \"WARN\".\n",
      "To adjust logging level use sc.setLogLevel(newLevel). For SparkR, use setLogLevel(newLevel).\n"
     ]
    },
    {
     "name": "stdout",
     "output_type": "stream",
     "text": [
      "23/02/23 19:09:56 WARN NativeCodeLoader: Unable to load native-hadoop library for your platform... using builtin-java classes where applicable\n"
     ]
    }
   ],
   "source": [
    "spark = SparkSession.builder.master(\"local[*]\").appName(\"test\").getOrCreate()"
   ]
  },
  {
   "cell_type": "code",
   "execution_count": 11,
   "id": "27442f5f",
   "metadata": {},
   "outputs": [
    {
     "name": "stdout",
     "output_type": "stream",
     "text": [
      "--2023-02-23 20:06:31--  https://d37ci6vzurychx.cloudfront.net/trip-data/fhvhv_tripdata_2021-01.parquet\n",
      "Resolving d37ci6vzurychx.cloudfront.net (d37ci6vzurychx.cloudfront.net)... 13.224.98.116, 13.224.98.91, 13.224.98.185, ...\n",
      "Connecting to d37ci6vzurychx.cloudfront.net (d37ci6vzurychx.cloudfront.net)|13.224.98.116|:443... connected.\n",
      "HTTP request sent, awaiting response... 200 OK\n",
      "Length: 308924937 (295M) [application/x-www-form-urlencoded]\n",
      "Saving to: ‘fhvhv_tripdata_2021-01.parquet’\n",
      "\n",
      "fhvhv_tripdata_2021 100%[===================>] 294.61M  34.5MB/s    in 9.0s    \n",
      "\n",
      "2023-02-23 20:06:41 (32.7 MB/s) - ‘fhvhv_tripdata_2021-01.parquet’ saved [308924937/308924937]\n",
      "\n"
     ]
    }
   ],
   "source": [
    "!wget https://d37ci6vzurychx.cloudfront.net/trip-data/fhvhv_tripdata_2021-01.parquet"
   ]
  },
  {
   "cell_type": "code",
   "execution_count": 30,
   "id": "ec233835",
   "metadata": {},
   "outputs": [],
   "source": [
    "from pyspark.sql import types\n",
    "schema = types.StructType(\n",
    "     [\n",
    "         types.StructField('hvfhs_license_num', types.StringType(), True),\n",
    "         types.StructField('dispatching_base_num', types.StringType(), True),\n",
    "         types.StructField('originating_base_num', types.StringType(), True),\n",
    "         types.StructField('request_datetime', types.TimestampType(), True),\n",
    "         types.StructField('on_scene_datetime', types.TimestampType(), True),\n",
    "         types.StructField('pickup_datetime', types.TimestampType(), True),\n",
    "         types.StructField('dropoff_datetime', types.TimestampType(), True),\n",
    "         types.StructField('PULocationID', types.LongType(), True),\n",
    "         types.StructField('DOLocationID', types.LongType(), True),\n",
    "         types.StructField('trip_miles', types.DoubleType(), True),\n",
    "         types.StructField('trip_time', types.LongType(), True),\n",
    "         types.StructField('base_passenger_fare', types.DoubleType(), True),\n",
    "         types.StructField('tolls', types.DoubleType(), True), \n",
    "         types.StructField('bcf', types.DoubleType(), True), \n",
    "         types.StructField('sales_tax', types.DoubleType(), True), \n",
    "         types.StructField('congestion_surcharge', types.DoubleType(), True), \n",
    "         types.StructField('airport_fee', types.DoubleType(), True),\n",
    "         types.StructField('tips', types.DoubleType(), True),\n",
    "         types.StructField('driver_pay', types.DoubleType(), True),\n",
    "         types.StructField('shared_request_flag', types.StringType(), True),\n",
    "         types.StructField('shared_match_flag', types.StringType(), True),\n",
    "         types.StructField('access_a_ride_flag', types.StringType(), True),\n",
    "         types.StructField('wav_request_flag', types.StringType(), True),\n",
    "         types.StructField('wav_match_flag', types.StringType(), True)]\n",
    " )\n",
    "\n"
   ]
  },
  {
   "cell_type": "code",
   "execution_count": 31,
   "id": "6b68fe18",
   "metadata": {},
   "outputs": [],
   "source": [
    "df = (spark.read\n",
    "      .option(\"header\", \"true\")\n",
    "      .schema(schema)\n",
    "      .parquet('./fhvhv_tripdata_2021-01.parquet'))"
   ]
  },
  {
   "cell_type": "code",
   "execution_count": 32,
   "id": "b1a8f7fc",
   "metadata": {},
   "outputs": [
    {
     "name": "stdout",
     "output_type": "stream",
     "text": [
      "+-----------------+--------------------+--------------------+-------------------+-------------------+-------------------+-------------------+------------+------------+----------+---------+-------------------+-----+----+---------+--------------------+-----------+----+----------+-------------------+-----------------+------------------+----------------+--------------+\n",
      "|hvfhs_license_num|dispatching_base_num|originating_base_num|   request_datetime|  on_scene_datetime|    pickup_datetime|   dropoff_datetime|PULocationID|DOLocationID|trip_miles|trip_time|base_passenger_fare|tolls| bcf|sales_tax|congestion_surcharge|airport_fee|tips|driver_pay|shared_request_flag|shared_match_flag|access_a_ride_flag|wav_request_flag|wav_match_flag|\n",
      "+-----------------+--------------------+--------------------+-------------------+-------------------+-------------------+-------------------+------------+------------+----------+---------+-------------------+-----+----+---------+--------------------+-----------+----+----------+-------------------+-----------------+------------------+----------------+--------------+\n",
      "|           HV0003|              B02682|              B02682|2021-01-01 01:28:09|2021-01-01 01:31:42|2021-01-01 01:33:44|2021-01-01 01:49:07|         230|         166|      5.26|      923|              22.28|  0.0|0.67|     1.98|                2.75|       null| 0.0|     14.99|                  N|                N|                  |               N|             N|\n",
      "|           HV0003|              B02682|              B02682|2021-01-01 01:45:56|2021-01-01 01:55:19|2021-01-01 01:55:19|2021-01-01 02:18:21|         152|         167|      3.65|     1382|              18.36|  0.0|0.55|     1.63|                 0.0|       null| 0.0|     17.06|                  N|                N|                  |               N|             N|\n",
      "|           HV0003|              B02764|              B02764|2021-01-01 01:21:15|2021-01-01 01:22:41|2021-01-01 01:23:56|2021-01-01 01:38:05|         233|         142|      3.51|      849|              14.05|  0.0|0.48|     1.25|                2.75|       null|0.94|     12.98|                  N|                N|                  |               N|             N|\n",
      "|           HV0003|              B02764|              B02764|2021-01-01 01:39:12|2021-01-01 01:42:37|2021-01-01 01:42:51|2021-01-01 01:45:50|         142|         143|      0.74|      179|               7.91|  0.0|0.24|      0.7|                2.75|       null| 0.0|      7.41|                  N|                N|                  |               N|             N|\n",
      "|           HV0003|              B02764|              B02764|2021-01-01 01:46:11|2021-01-01 01:47:17|2021-01-01 01:48:14|2021-01-01 02:08:42|         143|          78|       9.2|     1228|              27.11|  0.0|0.81|     2.41|                2.75|       null| 0.0|     22.44|                  N|                N|                  |               N|             N|\n",
      "|           HV0005|              B02510|                null|2021-01-01 01:04:00|               null|2021-01-01 01:06:59|2021-01-01 01:43:01|          88|          42|     9.725|     2162|              28.11|  0.0|0.84|     2.49|                2.75|       null| 0.0|      28.9|                  N|                N|                 N|               N|             N|\n",
      "|           HV0005|              B02510|                null|2021-01-01 01:40:06|               null|2021-01-01 01:50:00|2021-01-01 02:04:57|          42|         151|     2.469|      897|              25.03|  0.0|0.75|     2.22|                 0.0|       null| 0.0|     15.01|                  N|                N|                 N|               N|             N|\n",
      "|           HV0003|              B02764|              B02764|2021-01-01 01:10:36|2021-01-01 01:12:28|2021-01-01 01:14:30|2021-01-01 01:50:27|          71|         226|     13.53|     2157|              29.67|  0.0|1.04|     3.08|                 0.0|       null| 0.0|      34.2|                  N|                N|                  |               N|             N|\n",
      "|           HV0003|              B02875|              B02875|2021-01-01 01:21:17|2021-01-01 01:22:25|2021-01-01 01:22:54|2021-01-01 01:30:20|         112|         255|       1.6|      446|               6.89|  0.0|0.21|     0.61|                 0.0|       null| 0.0|      6.26|                  N|                N|                  |               N|             N|\n",
      "|           HV0003|              B02875|              B02875|2021-01-01 01:36:57|2021-01-01 01:38:09|2021-01-01 01:40:12|2021-01-01 01:53:31|         255|         232|       3.2|      800|              11.51|  0.0|0.53|     1.03|                2.75|       null|2.82|     10.99|                  N|                N|                  |               N|             N|\n",
      "|           HV0003|              B02875|              B02875|2021-01-01 01:53:31|2021-01-01 01:56:21|2021-01-01 01:56:45|2021-01-01 02:17:42|         232|         198|      5.74|     1257|              17.18|  0.0|0.52|     1.52|                2.75|       null| 0.0|     17.61|                  N|                N|                  |               N|             N|\n",
      "|           HV0003|              B02835|              B02835|2021-01-01 01:22:58|2021-01-01 01:27:01|2021-01-01 01:29:04|2021-01-01 01:36:27|         113|          48|       1.8|      443|               8.18|  0.0|0.25|     0.73|                2.75|       null| 0.0|      6.12|                  N|                N|                  |               N|             N|\n",
      "|           HV0003|              B02835|              B02835|2021-01-01 01:46:44|2021-01-01 01:47:49|2021-01-01 01:48:56|2021-01-01 01:59:12|         239|          75|       2.9|      616|               13.1|  0.0|0.45|     1.17|                2.75|       null|0.94|      8.77|                  N|                N|                  |               N|             N|\n",
      "|           HV0004|              B02800|                null|2021-01-01 01:12:50|               null|2021-01-01 01:15:24|2021-01-01 01:38:31|         181|         237|      9.66|     1387|              32.95|  0.0| 0.0|     2.34|                2.75|       null| 0.0|      21.1|                  N|                N|                 N|               N|             N|\n",
      "|           HV0004|              B02800|                null|2021-01-01 01:35:32|               null|2021-01-01 01:45:00|2021-01-01 02:06:45|         236|          68|      4.38|     1305|              22.91|  0.0| 0.0|     1.63|                2.75|       null|3.43|     15.82|                  N|                N|                 N|               N|             N|\n",
      "|           HV0003|              B02682|              B02682|2021-01-01 01:10:22|2021-01-01 01:11:03|2021-01-01 01:11:53|2021-01-01 01:18:06|         256|         148|      2.03|      373|               7.84|  0.0|0.42|      0.7|                2.75|       null|2.82|      6.93|                  N|                N|                  |               N|             N|\n",
      "|           HV0003|              B02682|              B02682|2021-01-01 01:25:00|2021-01-01 01:26:31|2021-01-01 01:28:31|2021-01-01 01:41:40|          79|          80|      3.08|      789|               13.2|  0.0| 0.4|     1.17|                2.75|       null| 0.0|     11.54|                  N|                N|                  |               N|             N|\n",
      "|           HV0003|              B02682|              B02682|2021-01-01 01:44:56|2021-01-01 01:49:55|2021-01-01 01:50:49|2021-01-01 01:55:59|          17|         217|      1.17|      310|               7.91|  0.0|0.24|      0.7|                 0.0|       null| 0.0|      6.94|                  N|                N|                  |               N|             N|\n",
      "|           HV0005|              B02510|                null|2021-01-01 01:05:04|               null|2021-01-01 01:08:40|2021-01-01 01:39:39|          62|          29|    10.852|     1859|              31.18|  0.0|0.94|     2.77|                 0.0|       null| 0.0|     27.61|                  N|                N|                 N|               N|             N|\n",
      "|           HV0003|              B02836|              B02836|2021-01-01 01:40:44|2021-01-01 01:53:34|2021-01-01 01:53:48|2021-01-01 02:11:40|          22|          22|      3.52|     1072|              28.67|  0.0|0.86|     2.54|                 0.0|       null| 0.0|     17.64|                  N|                N|                  |               N|             N|\n",
      "+-----------------+--------------------+--------------------+-------------------+-------------------+-------------------+-------------------+------------+------------+----------+---------+-------------------+-----+----+---------+--------------------+-----------+----+----------+-------------------+-----------------+------------------+----------------+--------------+\n",
      "only showing top 20 rows\n",
      "\n"
     ]
    }
   ],
   "source": [
    "df.show()"
   ]
  },
  {
   "cell_type": "code",
   "execution_count": 34,
   "id": "791765a8",
   "metadata": {},
   "outputs": [],
   "source": [
    "df = df.repartition(24)"
   ]
  },
  {
   "cell_type": "code",
   "execution_count": 35,
   "id": "404862ae",
   "metadata": {},
   "outputs": [
    {
     "name": "stderr",
     "output_type": "stream",
     "text": [
      "\r",
      "[Stage 28:===================================================>    (11 + 1) / 12]\r"
     ]
    },
    {
     "name": "stdout",
     "output_type": "stream",
     "text": [
      "23/02/23 20:19:08 WARN MemoryManager: Total allocation exceeds 95.00% (1,020,054,720 bytes) of heap memory\n",
      "Scaling row group sizes to 95.00% for 8 writers\n",
      "23/02/23 20:19:08 WARN MemoryManager: Total allocation exceeds 95.00% (1,020,054,720 bytes) of heap memory\n",
      "Scaling row group sizes to 84.44% for 9 writers\n",
      "23/02/23 20:19:08 WARN MemoryManager: Total allocation exceeds 95.00% (1,020,054,720 bytes) of heap memory\n",
      "Scaling row group sizes to 76.00% for 10 writers\n",
      "23/02/23 20:19:08 WARN MemoryManager: Total allocation exceeds 95.00% (1,020,054,720 bytes) of heap memory\n",
      "Scaling row group sizes to 69.09% for 11 writers\n",
      "23/02/23 20:19:08 WARN MemoryManager: Total allocation exceeds 95.00% (1,020,054,720 bytes) of heap memory\n",
      "Scaling row group sizes to 63.33% for 12 writers\n"
     ]
    },
    {
     "name": "stderr",
     "output_type": "stream",
     "text": [
      "\r",
      "[Stage 30:>                                                       (0 + 12) / 24]\r"
     ]
    },
    {
     "name": "stdout",
     "output_type": "stream",
     "text": [
      "23/02/23 20:19:16 WARN MemoryManager: Total allocation exceeds 95.00% (1,020,054,720 bytes) of heap memory\n",
      "Scaling row group sizes to 69.09% for 11 writers\n",
      "23/02/23 20:19:16 WARN MemoryManager: Total allocation exceeds 95.00% (1,020,054,720 bytes) of heap memory\n",
      "Scaling row group sizes to 76.00% for 10 writers\n",
      "23/02/23 20:19:16 WARN MemoryManager: Total allocation exceeds 95.00% (1,020,054,720 bytes) of heap memory\n",
      "Scaling row group sizes to 84.44% for 9 writers\n"
     ]
    },
    {
     "name": "stderr",
     "output_type": "stream",
     "text": [
      "\r",
      "[Stage 30:=======>                                                (3 + 12) / 24]\r",
      "\r",
      "[Stage 30:==================>                                     (8 + 12) / 24]\r"
     ]
    },
    {
     "name": "stdout",
     "output_type": "stream",
     "text": [
      "23/02/23 20:19:17 WARN MemoryManager: Total allocation exceeds 95.00% (1,020,054,720 bytes) of heap memory\n",
      "Scaling row group sizes to 76.00% for 10 writers\n",
      "23/02/23 20:19:17 WARN MemoryManager: Total allocation exceeds 95.00% (1,020,054,720 bytes) of heap memory\n",
      "Scaling row group sizes to 69.09% for 11 writers\n",
      "23/02/23 20:19:17 WARN MemoryManager: Total allocation exceeds 95.00% (1,020,054,720 bytes) of heap memory\n",
      "Scaling row group sizes to 76.00% for 10 writers\n",
      "23/02/23 20:19:17 WARN MemoryManager: Total allocation exceeds 95.00% (1,020,054,720 bytes) of heap memory\n",
      "Scaling row group sizes to 84.44% for 9 writers\n",
      "23/02/23 20:19:17 WARN MemoryManager: Total allocation exceeds 95.00% (1,020,054,720 bytes) of heap memory\n",
      "Scaling row group sizes to 95.00% for 8 writers\n",
      "23/02/23 20:19:17 WARN MemoryManager: Total allocation exceeds 95.00% (1,020,054,720 bytes) of heap memory\n",
      "Scaling row group sizes to 84.44% for 9 writers\n",
      "23/02/23 20:19:17 WARN MemoryManager: Total allocation exceeds 95.00% (1,020,054,720 bytes) of heap memory\n",
      "Scaling row group sizes to 95.00% for 8 writers\n",
      "23/02/23 20:19:17 WARN MemoryManager: Total allocation exceeds 95.00% (1,020,054,720 bytes) of heap memory\n",
      "Scaling row group sizes to 95.00% for 8 writers\n",
      "23/02/23 20:19:17 WARN MemoryManager: Total allocation exceeds 95.00% (1,020,054,720 bytes) of heap memory\n",
      "Scaling row group sizes to 84.44% for 9 writers\n",
      "23/02/23 20:19:17 WARN MemoryManager: Total allocation exceeds 95.00% (1,020,054,720 bytes) of heap memory\n",
      "Scaling row group sizes to 76.00% for 10 writers\n",
      "23/02/23 20:19:17 WARN MemoryManager: Total allocation exceeds 95.00% (1,020,054,720 bytes) of heap memory\n",
      "Scaling row group sizes to 69.09% for 11 writers\n",
      "23/02/23 20:19:17 WARN MemoryManager: Total allocation exceeds 95.00% (1,020,054,720 bytes) of heap memory\n",
      "Scaling row group sizes to 63.33% for 12 writers\n"
     ]
    },
    {
     "name": "stderr",
     "output_type": "stream",
     "text": [
      "\r",
      "[Stage 30:===========================>                           (12 + 12) / 24]\r"
     ]
    },
    {
     "name": "stdout",
     "output_type": "stream",
     "text": [
      "23/02/23 20:19:24 WARN MemoryManager: Total allocation exceeds 95.00% (1,020,054,720 bytes) of heap memory\n",
      "Scaling row group sizes to 69.09% for 11 writers\n",
      "23/02/23 20:19:24 WARN MemoryManager: Total allocation exceeds 95.00% (1,020,054,720 bytes) of heap memory\n",
      "Scaling row group sizes to 76.00% for 10 writers\n",
      "23/02/23 20:19:24 WARN MemoryManager: Total allocation exceeds 95.00% (1,020,054,720 bytes) of heap memory\n",
      "Scaling row group sizes to 84.44% for 9 writers\n",
      "23/02/23 20:19:24 WARN MemoryManager: Total allocation exceeds 95.00% (1,020,054,720 bytes) of heap memory\n",
      "Scaling row group sizes to 95.00% for 8 writers\n"
     ]
    },
    {
     "name": "stderr",
     "output_type": "stream",
     "text": [
      "                                                                                \r"
     ]
    }
   ],
   "source": [
    "df.write.parquet('fhvhv/2021/01/')"
   ]
  },
  {
   "cell_type": "code",
   "execution_count": 38,
   "id": "91782471",
   "metadata": {},
   "outputs": [
    {
     "name": "stdout",
     "output_type": "stream",
     "text": [
      "part-00000-12d9920e-4f39-4e8d-8301-db2ef246024f-c000.snappy.parquet\r\n",
      "part-00001-12d9920e-4f39-4e8d-8301-db2ef246024f-c000.snappy.parquet\r\n",
      "part-00002-12d9920e-4f39-4e8d-8301-db2ef246024f-c000.snappy.parquet\r\n",
      "part-00003-12d9920e-4f39-4e8d-8301-db2ef246024f-c000.snappy.parquet\r\n",
      "part-00004-12d9920e-4f39-4e8d-8301-db2ef246024f-c000.snappy.parquet\r\n",
      "part-00005-12d9920e-4f39-4e8d-8301-db2ef246024f-c000.snappy.parquet\r\n",
      "part-00006-12d9920e-4f39-4e8d-8301-db2ef246024f-c000.snappy.parquet\r\n",
      "part-00007-12d9920e-4f39-4e8d-8301-db2ef246024f-c000.snappy.parquet\r\n",
      "part-00008-12d9920e-4f39-4e8d-8301-db2ef246024f-c000.snappy.parquet\r\n",
      "part-00009-12d9920e-4f39-4e8d-8301-db2ef246024f-c000.snappy.parquet\r\n",
      "part-00010-12d9920e-4f39-4e8d-8301-db2ef246024f-c000.snappy.parquet\r\n",
      "part-00011-12d9920e-4f39-4e8d-8301-db2ef246024f-c000.snappy.parquet\r\n",
      "part-00012-12d9920e-4f39-4e8d-8301-db2ef246024f-c000.snappy.parquet\r\n",
      "part-00013-12d9920e-4f39-4e8d-8301-db2ef246024f-c000.snappy.parquet\r\n",
      "part-00014-12d9920e-4f39-4e8d-8301-db2ef246024f-c000.snappy.parquet\r\n",
      "part-00015-12d9920e-4f39-4e8d-8301-db2ef246024f-c000.snappy.parquet\r\n",
      "part-00016-12d9920e-4f39-4e8d-8301-db2ef246024f-c000.snappy.parquet\r\n",
      "part-00017-12d9920e-4f39-4e8d-8301-db2ef246024f-c000.snappy.parquet\r\n",
      "part-00018-12d9920e-4f39-4e8d-8301-db2ef246024f-c000.snappy.parquet\r\n",
      "part-00019-12d9920e-4f39-4e8d-8301-db2ef246024f-c000.snappy.parquet\r\n",
      "part-00020-12d9920e-4f39-4e8d-8301-db2ef246024f-c000.snappy.parquet\r\n",
      "part-00021-12d9920e-4f39-4e8d-8301-db2ef246024f-c000.snappy.parquet\r\n",
      "part-00022-12d9920e-4f39-4e8d-8301-db2ef246024f-c000.snappy.parquet\r\n",
      "part-00023-12d9920e-4f39-4e8d-8301-db2ef246024f-c000.snappy.parquet\r\n",
      "_SUCCESS\r\n"
     ]
    }
   ],
   "source": [
    "!ls fhvhv/2021/01/"
   ]
  },
  {
   "cell_type": "code",
   "execution_count": 39,
   "id": "fb07d257",
   "metadata": {},
   "outputs": [],
   "source": [
    "df = spark.read.parquet('fhvhv/2021/01/')"
   ]
  },
  {
   "cell_type": "code",
   "execution_count": 42,
   "id": "c574807f",
   "metadata": {},
   "outputs": [
    {
     "data": {
      "text/plain": [
       "Row(hvfhs_license_num='HV0003', dispatching_base_num='B02764', originating_base_num='B02764', request_datetime=datetime.datetime(2021, 1, 11, 19, 38, 35), on_scene_datetime=datetime.datetime(2021, 1, 11, 19, 39, 39), pickup_datetime=datetime.datetime(2021, 1, 11, 19, 40, 22), dropoff_datetime=datetime.datetime(2021, 1, 11, 20, 15, 49), PULocationID=262, DOLocationID=231, trip_miles=9.61, trip_time=2127, base_passenger_fare=34.54, tolls=0.0, bcf=1.04, sales_tax=3.07, congestion_surcharge=2.75, airport_fee=None, tips=8.41, driver_pay=28.4, shared_request_flag='N', shared_match_flag='N', access_a_ride_flag=' ', wav_request_flag='N', wav_match_flag='N')"
      ]
     },
     "execution_count": 42,
     "metadata": {},
     "output_type": "execute_result"
    }
   ],
   "source": [
    "df.head()"
   ]
  },
  {
   "cell_type": "code",
   "execution_count": 40,
   "id": "bc76f543",
   "metadata": {},
   "outputs": [
    {
     "name": "stdout",
     "output_type": "stream",
     "text": [
      "root\n",
      " |-- hvfhs_license_num: string (nullable = true)\n",
      " |-- dispatching_base_num: string (nullable = true)\n",
      " |-- originating_base_num: string (nullable = true)\n",
      " |-- request_datetime: timestamp (nullable = true)\n",
      " |-- on_scene_datetime: timestamp (nullable = true)\n",
      " |-- pickup_datetime: timestamp (nullable = true)\n",
      " |-- dropoff_datetime: timestamp (nullable = true)\n",
      " |-- PULocationID: long (nullable = true)\n",
      " |-- DOLocationID: long (nullable = true)\n",
      " |-- trip_miles: double (nullable = true)\n",
      " |-- trip_time: long (nullable = true)\n",
      " |-- base_passenger_fare: double (nullable = true)\n",
      " |-- tolls: double (nullable = true)\n",
      " |-- bcf: double (nullable = true)\n",
      " |-- sales_tax: double (nullable = true)\n",
      " |-- congestion_surcharge: double (nullable = true)\n",
      " |-- airport_fee: double (nullable = true)\n",
      " |-- tips: double (nullable = true)\n",
      " |-- driver_pay: double (nullable = true)\n",
      " |-- shared_request_flag: string (nullable = true)\n",
      " |-- shared_match_flag: string (nullable = true)\n",
      " |-- access_a_ride_flag: string (nullable = true)\n",
      " |-- wav_request_flag: string (nullable = true)\n",
      " |-- wav_match_flag: string (nullable = true)\n",
      "\n"
     ]
    }
   ],
   "source": [
    "df.printSchema()"
   ]
  },
  {
   "cell_type": "code",
   "execution_count": 45,
   "id": "19211d82",
   "metadata": {},
   "outputs": [
    {
     "name": "stdout",
     "output_type": "stream",
     "text": [
      "+-------------------+---------+\n",
      "|    pickup_datetime|trip_time|\n",
      "+-------------------+---------+\n",
      "|2021-01-11 19:40:22|     2127|\n",
      "|2021-01-11 12:58:23|      956|\n",
      "|2021-01-08 21:35:35|     1858|\n",
      "|2021-01-16 22:00:39|     1056|\n",
      "|2021-01-31 23:13:31|      995|\n",
      "|2021-01-11 09:59:29|      538|\n",
      "|2021-01-10 00:54:26|      450|\n",
      "|2021-01-29 06:15:14|      378|\n",
      "|2021-01-22 01:15:45|     1082|\n",
      "|2021-01-19 14:59:47|      480|\n",
      "|2021-01-30 09:19:14|     1359|\n",
      "|2021-01-09 11:53:41|      784|\n",
      "|2021-01-27 09:18:19|      444|\n",
      "|2021-01-13 18:13:02|     1119|\n",
      "|2021-01-03 17:04:13|      253|\n",
      "|2021-01-22 07:34:41|     2619|\n",
      "|2021-01-16 14:02:19|     2299|\n",
      "|2021-01-31 19:11:18|      569|\n",
      "|2021-01-16 13:16:37|      483|\n",
      "|2021-01-25 17:45:01|      487|\n",
      "+-------------------+---------+\n",
      "only showing top 20 rows\n",
      "\n"
     ]
    }
   ],
   "source": [
    "(df.filter(df.dispatching_base_num == 'B02764')\n",
    " .select('pickup_datetime', 'trip_time')\n",
    " .show()\n",
    ")"
   ]
  },
  {
   "cell_type": "markdown",
   "id": "207cda84",
   "metadata": {},
   "source": [
    "## Transformation -> not executed directly\n",
    "\n",
    "spark will create a set of transformation, executed on show()\n",
    "\n",
    "join, group by filter select etc\n",
    "lazy executation\n",
    "\n",
    "\n",
    "## Action\n",
    "executed immediatly (show), take head write etc"
   ]
  },
  {
   "cell_type": "code",
   "execution_count": 46,
   "id": "38b20049",
   "metadata": {},
   "outputs": [],
   "source": [
    "from pyspark.sql import functions as F"
   ]
  },
  {
   "cell_type": "code",
   "execution_count": 48,
   "id": "41dab6ff",
   "metadata": {},
   "outputs": [
    {
     "data": {
      "text/plain": [
       "DataFrame[pickup_date: date]"
      ]
     },
     "execution_count": 48,
     "metadata": {},
     "output_type": "execute_result"
    }
   ],
   "source": [
    "(\n",
    "    df\n",
    "        .withColumn('pickup_date', F.to_date(df.pickup_datetime))\n",
    "        .select('pickup_date')\n",
    ")"
   ]
  },
  {
   "cell_type": "code",
   "execution_count": 49,
   "id": "c1162507",
   "metadata": {},
   "outputs": [
    {
     "data": {
      "text/plain": [
       "['hvfhs_license_num',\n",
       " 'dispatching_base_num',\n",
       " 'originating_base_num',\n",
       " 'request_datetime',\n",
       " 'on_scene_datetime',\n",
       " 'pickup_datetime',\n",
       " 'dropoff_datetime',\n",
       " 'PULocationID',\n",
       " 'DOLocationID',\n",
       " 'trip_miles',\n",
       " 'trip_time',\n",
       " 'base_passenger_fare',\n",
       " 'tolls',\n",
       " 'bcf',\n",
       " 'sales_tax',\n",
       " 'congestion_surcharge',\n",
       " 'airport_fee',\n",
       " 'tips',\n",
       " 'driver_pay',\n",
       " 'shared_request_flag',\n",
       " 'shared_match_flag',\n",
       " 'access_a_ride_flag',\n",
       " 'wav_request_flag',\n",
       " 'wav_match_flag']"
      ]
     },
     "execution_count": 49,
     "metadata": {},
     "output_type": "execute_result"
    }
   ],
   "source": [
    "df.columns"
   ]
  },
  {
   "cell_type": "code",
   "execution_count": 50,
   "id": "7fa26a51",
   "metadata": {},
   "outputs": [],
   "source": [
    "#user defined function\n",
    "\n",
    "def crazy_stuff(tips):\n",
    "    return 'chad' if tips > 50 else 'wojak'\n",
    "\n",
    "\n",
    "# can cover it with unitest\n",
    "\n",
    "crazy_stuff_udf = F.udf(crazy_stuff, returnType=types.StringType())"
   ]
  },
  {
   "cell_type": "code",
   "execution_count": 53,
   "id": "1957dac2",
   "metadata": {},
   "outputs": [
    {
     "data": {
      "text/plain": [
       "[Row(chad='wojak'),\n",
       " Row(chad='wojak'),\n",
       " Row(chad='wojak'),\n",
       " Row(chad='wojak'),\n",
       " Row(chad='wojak')]"
      ]
     },
     "execution_count": 53,
     "metadata": {},
     "output_type": "execute_result"
    }
   ],
   "source": [
    "df.withColumn('chad', crazy_stuff_udf(df.tips)).select('chad').head(5)"
   ]
  },
  {
   "cell_type": "code",
   "execution_count": 55,
   "id": "455973d9",
   "metadata": {},
   "outputs": [
    {
     "name": "stderr",
     "output_type": "stream",
     "text": [
      "/home/mrmarx/miniconda3/lib/python3.9/site-packages/pyspark/sql/dataframe.py:229: FutureWarning: Deprecated in 2.0, use createOrReplaceTempView instead.\n",
      "  warnings.warn(\"Deprecated in 2.0, use createOrReplaceTempView instead.\", FutureWarning)\n"
     ]
    }
   ],
   "source": [
    "df.registerTempTable('test')"
   ]
  },
  {
   "cell_type": "code",
   "execution_count": 57,
   "id": "f7999755",
   "metadata": {},
   "outputs": [
    {
     "name": "stdout",
     "output_type": "stream",
     "text": [
      "+-----------------+--------------------+--------------------+-------------------+-------------------+-------------------+-------------------+------------+------------+----------+---------+-------------------+-----+----+---------+--------------------+-----------+----+----------+-------------------+-----------------+------------------+----------------+--------------+\n",
      "|hvfhs_license_num|dispatching_base_num|originating_base_num|   request_datetime|  on_scene_datetime|    pickup_datetime|   dropoff_datetime|PULocationID|DOLocationID|trip_miles|trip_time|base_passenger_fare|tolls| bcf|sales_tax|congestion_surcharge|airport_fee|tips|driver_pay|shared_request_flag|shared_match_flag|access_a_ride_flag|wav_request_flag|wav_match_flag|\n",
      "+-----------------+--------------------+--------------------+-------------------+-------------------+-------------------+-------------------+------------+------------+----------+---------+-------------------+-----+----+---------+--------------------+-----------+----+----------+-------------------+-----------------+------------------+----------------+--------------+\n",
      "|           HV0003|              B02764|              B02764|2021-01-11 19:38:35|2021-01-11 19:39:39|2021-01-11 19:40:22|2021-01-11 20:15:49|         262|         231|      9.61|     2127|              34.54|  0.0|1.04|     3.07|                2.75|       null|8.41|      28.4|                  N|                N|                  |               N|             N|\n",
      "|           HV0003|              B02617|              B02617|2021-01-05 16:09:21|2021-01-05 16:12:56|2021-01-05 16:13:22|2021-01-05 16:27:50|          61|         181|      2.86|      868|              14.73|  0.0|0.44|     1.31|                 0.0|       null| 0.0|     10.42|                  N|                N|                  |               N|             N|\n",
      "|           HV0005|              B02510|                null|2021-01-02 15:24:29|               null|2021-01-02 15:29:43|2021-01-02 15:57:51|         100|           1|    16.899|     1688|              80.04|21.99|3.06|      0.0|                 0.0|       null| 0.0|      41.3|                  N|                N|                 N|               N|             N|\n",
      "|           HV0003|              B02882|              B02882|2021-01-31 19:24:39|2021-01-31 19:40:09|2021-01-31 19:42:09|2021-01-31 19:59:52|         232|           4|      1.51|     1063|              10.61|  0.0|0.33|     0.99|                2.75|       null| 0.0|     10.68|                  N|                N|                  |               N|             N|\n",
      "|           HV0004|              B02800|                null|2021-01-05 20:28:05|               null|2021-01-05 20:33:01|2021-01-05 21:05:08|         162|           1|     16.21|     1926|              66.95|  0.0| 0.0|      0.0|                 0.0|       null| 0.0|     35.04|                  N|                N|                 N|               N|             N|\n",
      "|           HV0003|              B02883|              B02883|2021-01-27 23:19:18|2021-01-27 23:23:20|2021-01-27 23:24:36|2021-01-27 23:26:43|          68|          68|       0.2|      127|              10.38|  0.0|0.31|     0.92|                2.75|       null| 0.0|       6.8|                  N|                N|                  |               N|             N|\n",
      "|           HV0005|              B02510|                null|2021-01-18 01:39:02|               null|2021-01-18 01:52:32|2021-01-18 02:00:12|         205|         205|     1.448|      460|               6.87|  0.0|0.21|     0.61|                 0.0|       null| 0.0|      5.47|                  N|                N|                 N|               N|             N|\n",
      "|           HV0003|              B02869|              B02869|2021-01-30 09:31:55|2021-01-30 09:35:45|2021-01-30 09:35:46|2021-01-30 09:39:42|         256|         255|      0.58|      236|               7.91|  0.0|0.24|      0.7|                 0.0|       null| 0.0|      5.39|                  N|                N|                  |               N|             N|\n",
      "|           HV0003|              B02875|              B02875|2021-01-16 03:23:46|2021-01-16 03:24:46|2021-01-16 03:25:35|2021-01-16 03:34:21|          89|          91|      2.05|      526|                9.9|  0.0| 0.3|     0.88|                 0.0|       null| 0.0|      8.62|                  N|                N|                  |               N|             Y|\n",
      "|           HV0005|              B02510|                null|2021-01-05 03:11:17|               null|2021-01-05 03:17:29|2021-01-05 03:36:56|         132|         102|    10.505|     1167|              35.75|  0.0|1.07|     3.17|                 0.0|       null| 0.0|     21.43|                  N|                N|                 N|               N|             N|\n",
      "+-----------------+--------------------+--------------------+-------------------+-------------------+-------------------+-------------------+------------+------------+----------+---------+-------------------+-----+----+---------+--------------------+-----------+----+----------+-------------------+-----------------+------------------+----------------+--------------+\n",
      "\n"
     ]
    }
   ],
   "source": [
    "spark.sql(\"\"\"\n",
    "    select * from test limit 10\n",
    "\"\"\").show()"
   ]
  },
  {
   "cell_type": "code",
   "execution_count": null,
   "id": "2a148796",
   "metadata": {},
   "outputs": [],
   "source": []
  }
 ],
 "metadata": {
  "kernelspec": {
   "display_name": "Python 3 (ipykernel)",
   "language": "python",
   "name": "python3"
  },
  "language_info": {
   "codemirror_mode": {
    "name": "ipython",
    "version": 3
   },
   "file_extension": ".py",
   "mimetype": "text/x-python",
   "name": "python",
   "nbconvert_exporter": "python",
   "pygments_lexer": "ipython3",
   "version": "3.9.7"
  }
 },
 "nbformat": 4,
 "nbformat_minor": 5
}
